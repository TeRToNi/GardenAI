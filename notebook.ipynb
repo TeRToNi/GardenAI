{
 "cells": [
  {
   "metadata": {},
   "cell_type": "raw",
   "source": "",
   "id": "72018ffbe0a73d89"
  },
  {
   "metadata": {
    "jupyter": {
     "is_executing": true
    },
    "ExecuteTime": {
     "start_time": "2025-10-21T13:19:17.775571Z"
    }
   },
   "cell_type": "code",
   "source": [
    "!pip install --upgrade pip\n",
    "!TMPDIR=/data/vincents/ pip install --cache-dir=/data/vincents/ ultralytics"
   ],
   "id": "e74960b6fe40b0bc",
   "outputs": [
    {
     "name": "stdout",
     "output_type": "stream",
     "text": [
      "Requirement already satisfied: pip in ./.venv/lib/python3.13/site-packages (25.2)\r\n"
     ]
    }
   ],
   "execution_count": null
  }
 ],
 "metadata": {
  "kernelspec": {
   "name": "python3",
   "language": "python",
   "display_name": "Python 3 (ipykernel)"
  }
 },
 "nbformat": 4,
 "nbformat_minor": 5
}
