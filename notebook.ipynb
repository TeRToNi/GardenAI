{
 "cells": [
  {
   "metadata": {},
   "cell_type": "raw",
   "source": "",
   "id": "72018ffbe0a73d89"
  },
  {
   "metadata": {
    "ExecuteTime": {
     "end_time": "2025-10-21T13:42:40.466878Z",
     "start_time": "2025-10-21T13:19:17.775571Z"
    }
   },
   "cell_type": "code",
   "source": [
    "!pip install --upgrade pip\n",
    "!TMPDIR=/data/vincents/ pip install --cache-dir=/data/vincents/ ultralytics"
   ],
   "id": "e74960b6fe40b0bc",
   "outputs": [
    {
     "name": "stdout",
     "output_type": "stream",
     "text": [
      "Requirement already satisfied: pip in ./.venv/lib/python3.13/site-packages (25.2)\r\n",
      "\u001B[2K   \u001B[91m━━━━━━━━━━━━━━━\u001B[0m\u001B[91m╸\u001B[0m\u001B[90m━━━━━━━━━━━━━━━━━━━━━━━━\u001B[0m \u001B[32m355.7/899.8 MB\u001B[0m \u001B[31m49.2 kB/s\u001B[0m eta \u001B[36m3:04:14\u001B[0m\r\n",
      "\u001B[?25h\u001B[33mWARNING: Connection timed out while downloading.\u001B[0m\u001B[33m\r\n",
      "\u001B[0m\u001B[33mWARNING: Attempting to resume incomplete download (355.7 MB/899.8 MB, attempt 1)\u001B[0m\u001B[33m\r\n",
      "\u001B[0mResuming download torch-2.9.0-cp313-cp313-manylinux_2_28_x86_64.whl (355.7 MB/899.8 MB)\r\n",
      "\u001B[2K   \u001B[91m━━━━━━━━━━━━━━━━\u001B[0m\u001B[91m╸\u001B[0m\u001B[90m━━━━━━━━━━━━━━━━━━━━━━\u001B[0m \u001B[32m385.9/899.8 MB\u001B[0m \u001B[31m131.7 kB/s\u001B[0m eta \u001B[36m1:05:04\u001B[0m^C\r\n",
      "\u001B[2K   \u001B[91m━━━━━━━━━━━━━━━━\u001B[0m\u001B[91m╸\u001B[0m\u001B[90m━━━━━━━━━━━━━━━━━━━━━━\u001B[0m \u001B[32m385.9/899.8 MB\u001B[0m \u001B[31m131.7 kB/s\u001B[0m eta \u001B[36m1:05:04\u001B[0m\r\n",
      "\u001B[?25h"
     ]
    }
   ],
   "execution_count": 1
  }
 ],
 "metadata": {
  "kernelspec": {
   "name": "python3",
   "language": "python",
   "display_name": "Python 3 (ipykernel)"
  }
 },
 "nbformat": 4,
 "nbformat_minor": 5
}
